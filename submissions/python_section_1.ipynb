{
 "cells": [
  {
   "cell_type": "code",
   "execution_count": 1,
   "id": "6d07a353",
   "metadata": {},
   "outputs": [],
   "source": [
    "import numpy as np\n",
    "import pandas as pd"
   ]
  },
  {
   "cell_type": "markdown",
   "id": "9feea9a2",
   "metadata": {},
   "source": [
    "# Question 1: Reverse List by N Elements"
   ]
  },
  {
   "cell_type": "code",
   "execution_count": 2,
   "id": "1a61604c",
   "metadata": {},
   "outputs": [
    {
     "name": "stdout",
     "output_type": "stream",
     "text": [
      "[3, 2, 1, 6, 5, 4, 8, 7]\n",
      "[2, 1, 4, 3, 5]\n",
      "[40, 30, 20, 10, 70, 60, 50]\n"
     ]
    }
   ],
   "source": [
    "def reverse_by_n_elements(lst, n):\n",
    "    result = []\n",
    "    for i in range(0, len(lst), n):\n",
    "        temp = []\n",
    "        for j in range(min(n, len(lst) - i)):\n",
    "            temp.insert(0, lst[i + j])\n",
    "        result.extend(temp)\n",
    "    return result\n",
    "\n",
    "# Example\n",
    "print(reverse_by_n_elements([1, 2, 3, 4, 5, 6, 7, 8], 3))   \n",
    "print(reverse_by_n_elements([1, 2, 3, 4, 5], 2))            \n",
    "print(reverse_by_n_elements([10, 20, 30, 40, 50, 60, 70], 4))  "
   ]
  },
  {
   "cell_type": "markdown",
   "id": "64c167a5",
   "metadata": {},
   "source": [
    "# Question 2: Lists & Dictionaries"
   ]
  },
  {
   "cell_type": "code",
   "execution_count": 3,
   "id": "d6d9ef26",
   "metadata": {},
   "outputs": [
    {
     "name": "stdout",
     "output_type": "stream",
     "text": [
      "{3: ['bat', 'car', 'dog'], 4: ['bear'], 5: ['apple'], 8: ['elephant']}\n"
     ]
    }
   ],
   "source": [
    "lst1 = [\"apple\", \"bat\", \"car\", \"elephant\", \"dog\", \"bear\"]\n",
    "\n",
    "def len_word(word_lst):\n",
    "    keys = list(set([len(i) for i in word_lst]))\n",
    "    keys.sort() \n",
    "    result = dict()\n",
    "    for i in keys:\n",
    "        result[i] = [j for j in word_lst if len(j) == i]\n",
    "    return print(result)\n",
    "\n",
    "len_word(lst1)"
   ]
  },
  {
   "cell_type": "markdown",
   "id": "108fbc28",
   "metadata": {},
   "source": [
    "# Question 3: Flatten a Nested Dictionary"
   ]
  },
  {
   "cell_type": "code",
   "execution_count": 4,
   "id": "5e602a1f",
   "metadata": {},
   "outputs": [
    {
     "data": {
      "text/plain": [
       "{'road.name': 'Highway 1',\n",
       " 'road.length': 350,\n",
       " 'road.sections[0].id': 1,\n",
       " 'road.sections[0].condition.pavement': 'good',\n",
       " 'road.sections[0].condition.traffic': 'moderate'}"
      ]
     },
     "execution_count": 4,
     "metadata": {},
     "output_type": "execute_result"
    }
   ],
   "source": [
    "def flatten_dict(d, parent_key='', sep='.'):\n",
    "    flattened = {}\n",
    "    \n",
    "    for k, v in d.items():\n",
    "        new_key = f\"{parent_key}{sep}{k}\" if parent_key else k\n",
    "        \n",
    "        if isinstance(v, dict):\n",
    "            flattened.update(flatten_dict(v, new_key, sep=sep))\n",
    "        elif isinstance(v, list):\n",
    "            for i, item in enumerate(v):\n",
    "                flattened.update(flatten_dict({f\"{new_key}[{i}]\": item}, '', sep=sep))\n",
    "        else:\n",
    "            flattened[new_key] = v\n",
    "    \n",
    "    return flattened\n",
    "\n",
    "# example\n",
    "nested_dict = {\n",
    "    \"road\": {\n",
    "        \"name\": \"Highway 1\",\n",
    "        \"length\": 350,\n",
    "        \"sections\": [\n",
    "            {\n",
    "                \"id\": 1,\n",
    "                \"condition\": {\n",
    "                    \"pavement\": \"good\",\n",
    "                    \"traffic\": \"moderate\"\n",
    "                }\n",
    "            }\n",
    "        ]\n",
    "    }\n",
    "}\n",
    "\n",
    "\n",
    "flattened_dict = flatten_dict(nested_dict)\n",
    "flattened_dict"
   ]
  },
  {
   "cell_type": "markdown",
   "id": "6f38d863",
   "metadata": {},
   "source": [
    "# Question 4: Generate Unique Permutations"
   ]
  },
  {
   "cell_type": "code",
   "execution_count": 5,
   "id": "55d966c7",
   "metadata": {},
   "outputs": [
    {
     "name": "stdout",
     "output_type": "stream",
     "text": [
      "[[1, 1, 2], [1, 2, 1], [2, 1, 1]]\n"
     ]
    }
   ],
   "source": [
    "def backtrack(nums, path, used, res):\n",
    "    if len(path) == len(nums):\n",
    "        res.append(path[:])\n",
    "        return\n",
    "    \n",
    "    for i in range(len(nums)):\n",
    "        if used[i]:\n",
    "            continue\n",
    "        if i > 0 and nums[i] == nums[i - 1] and not used[i - 1]:\n",
    "            continue\n",
    "        used[i] = True\n",
    "        path.append(nums[i])\n",
    "        backtrack(nums, path, used, res)\n",
    "        path.pop()\n",
    "        used[i] = False\n",
    "\n",
    "def unique_permutations(nums):\n",
    "    nums.sort()  \n",
    "    res = []\n",
    "    used = [False] * len(nums)\n",
    "    backtrack(nums, [], used, res)\n",
    "    return res\n",
    "\n",
    "# Example\n",
    "nums = [1, 1, 2]\n",
    "unique_perms = unique_permutations(nums)\n",
    "print(unique_perms)"
   ]
  },
  {
   "cell_type": "markdown",
   "id": "94c5885a",
   "metadata": {},
   "source": [
    "# Question 5: Find All Dates in a Text"
   ]
  },
  {
   "cell_type": "code",
   "execution_count": 6,
   "id": "4830fc6a",
   "metadata": {},
   "outputs": [
    {
     "name": "stdout",
     "output_type": "stream",
     "text": [
      "['23-08-1994', '08/23/1994', '1994.08.23']\n"
     ]
    }
   ],
   "source": [
    "import re\n",
    "\n",
    "def find_all_dates(text):\n",
    "    date_pattern = r'\\b(\\d{2}-\\d{2}-\\d{4}|\\d{2}/\\d{2}/\\d{4}|\\d{4}\\.\\d{2}\\.\\d{2})\\b'\n",
    "    \n",
    "    dates = re.findall(date_pattern, text)\n",
    "    \n",
    "    return dates\n",
    "\n",
    "# Example\n",
    "text = \"I was born on 23-08-1994, my friend on 08/23/1994, and another one on 1994.08.23.\"\n",
    "found_dates = find_all_dates(text)\n",
    "print(found_dates)"
   ]
  },
  {
   "cell_type": "markdown",
   "id": "4c861f3e",
   "metadata": {},
   "source": [
    "# Question 6: Decode Polyline, Convert to DataFrame with Distances"
   ]
  },
  {
   "cell_type": "code",
   "execution_count": 7,
   "id": "3c2a53fb",
   "metadata": {},
   "outputs": [
    {
     "name": "stdout",
     "output_type": "stream",
     "text": [
      "   latitude  longitude  distance\n",
      "0  41.85073 -298.68992   0.00000\n",
      "1  41.85098 -298.68938  52.66168\n"
     ]
    }
   ],
   "source": [
    "import polyline\n",
    "\n",
    "def haversine(coord1, coord2):\n",
    "    R = 6371000 \n",
    "    lat1, lon1 = np.radians(coord1)\n",
    "    lat2, lon2 = np.radians(coord2)\n",
    "    \n",
    "    dlat = lat2 - lat1\n",
    "    dlon = lon2 - lon1\n",
    "    \n",
    "    a = np.sin(dlat / 2)**2 + np.cos(lat1) * np.cos(lat2) * np.sin(dlon / 2)**2\n",
    "    c = 2 * np.arctan2(np.sqrt(a), np.sqrt(1 - a))\n",
    "    \n",
    "    return R * c\n",
    "\n",
    "def decode_polyline_and_create_dataframe(polyline_str):\n",
    "    coordinates = polyline.decode(polyline_str)\n",
    "    \n",
    "    df = pd.DataFrame(coordinates, columns=['latitude', 'longitude'])\n",
    "    distances = [0]  \n",
    "    for i in range(1, len(coordinates)):\n",
    "        distance = haversine(coordinates[i-1], coordinates[i])\n",
    "        distances.append(distance)\n",
    "    \n",
    "    df['distance'] = distances\n",
    "    return df\n",
    "\n",
    "# example\n",
    "polyline_str = \"a~l~F~z`~w@q@kB\"\n",
    "df = decode_polyline_and_create_dataframe(polyline_str)\n",
    "print(df)"
   ]
  },
  {
   "cell_type": "markdown",
   "id": "fd16fd88",
   "metadata": {},
   "source": [
    "# Question 7: Matrix Rotation and Transformation"
   ]
  },
  {
   "cell_type": "code",
   "execution_count": 8,
   "id": "d69cec19",
   "metadata": {},
   "outputs": [
    {
     "name": "stdout",
     "output_type": "stream",
     "text": [
      "[22, 19, 16]\n",
      "[23, 20, 17]\n",
      "[24, 21, 18]\n"
     ]
    }
   ],
   "source": [
    "def rotate_and_transform(matrix):\n",
    "    n = len(matrix)\n",
    "    rotated = [[0] * n for _ in range(n)]\n",
    "    for i in range(n):\n",
    "        for j in range(n):\n",
    "            rotated[j][n - 1 - i] = matrix[i][j]\n",
    "\n",
    "    transformed = [[0] * n for _ in range(n)]\n",
    "\n",
    "    for i in range(n):\n",
    "        for j in range(n):\n",
    "            row_sum = sum(rotated[i]) - rotated[i][j]\n",
    "            col_sum = sum(rotated[k][j] for k in range(n)) - rotated[i][j]\n",
    "            transformed[i][j] = row_sum + col_sum\n",
    "\n",
    "    return transformed\n",
    "\n",
    "# Example\n",
    "matrix = [[1, 2, 3],\n",
    "          [4, 5, 6],\n",
    "          [7, 8, 9]]\n",
    "\n",
    "final_matrix = rotate_and_transform(matrix)\n",
    "for row in final_matrix:\n",
    "    print(row)"
   ]
  },
  {
   "cell_type": "markdown",
   "id": "768b8490",
   "metadata": {},
   "source": [
    "# Question 8: Time Check"
   ]
  },
  {
   "cell_type": "code",
   "execution_count": 9,
   "id": "f9d83dab",
   "metadata": {},
   "outputs": [
    {
     "name": "stdout",
     "output_type": "stream",
     "text": [
      "id       id_2    \n",
      "1014000  -1          True\n",
      "1014002  -1          True\n",
      "1014003  -1          True\n",
      "1030000  -1          True\n",
      "          1030002    True\n",
      "                     ... \n",
      "1330016   1330006    True\n",
      "          1330008    True\n",
      "          1330010    True\n",
      "          1330012    True\n",
      "          1330014    True\n",
      "Length: 9254, dtype: bool\n"
     ]
    }
   ],
   "source": [
    "import datetime\n",
    "\n",
    "weekday_mapping = {\n",
    "    \"Monday\": 0,\n",
    "    \"Tuesday\": 1,\n",
    "    \"Wednesday\": 2,\n",
    "    \"Thursday\": 3,\n",
    "    \"Friday\": 4,\n",
    "    \"Saturday\": 5,\n",
    "    \"Sunday\": 6\n",
    "}\n",
    "\n",
    "def get_datetime(day, time, reference_date):\n",
    "    weekday_num = weekday_mapping[day]\n",
    "    days_diff = weekday_num - reference_date.weekday()\n",
    "    date = reference_date + datetime.timedelta(days=days_diff)\n",
    "    time_part = datetime.datetime.strptime(time, '%H:%M:%S').time()\n",
    "    return datetime.datetime.combine(date, time_part)\n",
    "\n",
    "def check_time_completeness(df):\n",
    "    reference_date = datetime.datetime(2024, 10, 21)  \n",
    "    df['start_datetime'] = df.apply(lambda row: get_datetime(row['startDay'], row['startTime'], reference_date), axis=1)\n",
    "    df['end_datetime'] = df.apply(lambda row: get_datetime(row['endDay'], row['endTime'], reference_date), axis=1)\n",
    "    \n",
    "    grouped = df.groupby(['id', 'id_2'])\n",
    "    \n",
    "    completeness_series = pd.Series(dtype=bool, index=pd.MultiIndex.from_tuples([], names=[\"id\", \"id_2\"]))\n",
    "    \n",
    "    for (id_val, id_2_val), group in grouped:\n",
    "        days_covered = group['startDay'].map(weekday_mapping).unique()\n",
    "        all_days_covered = set(days_covered) == set(range(7)) \n",
    "        \n",
    "        full_day_coverage = True\n",
    "        for day in set(days_covered):\n",
    "            day_group = group[(group['startDay'].map(weekday_mapping) == day)]\n",
    "            day_start_min = day_group['start_datetime'].min().time()\n",
    "            day_end_max = day_group['end_datetime'].max().time()\n",
    "            if not (day_start_min == datetime.time(0, 0, 0) and day_end_max == datetime.time(23, 59, 59)):\n",
    "                full_day_coverage = False\n",
    "                break\n",
    "        completeness_series.loc[(id_val, id_2_val)] = not (all_days_covered and full_day_coverage)\n",
    "    \n",
    "    return completeness_series\n",
    "\n",
    "# Example \n",
    "df = pd.read_csv(r\"D:\\Imarticus\\Nandugade_Mapup\\MapUp-DA-Assessment-2024\\datasets\\dataset-1.csv\")\n",
    "result = check_time_completeness(df)\n",
    "print(result)"
   ]
  }
 ],
 "metadata": {
  "kernelspec": {
   "display_name": "Python 3 (ipykernel)",
   "language": "python",
   "name": "python3"
  },
  "language_info": {
   "codemirror_mode": {
    "name": "ipython",
    "version": 3
   },
   "file_extension": ".py",
   "mimetype": "text/x-python",
   "name": "python",
   "nbconvert_exporter": "python",
   "pygments_lexer": "ipython3",
   "version": "3.11.5"
  }
 },
 "nbformat": 4,
 "nbformat_minor": 5
}
